{
 "cells": [
  {
   "cell_type": "code",
   "execution_count": 5,
   "metadata": {
    "vscode": {
     "languageId": "plaintext"
    }
   },
   "outputs": [
    {
     "name": "stdout",
     "output_type": "stream",
     "text": [
      "Processing book7.pdf...\n",
      "]========================================] (264/264)\n",
      "book7.pdf converted to book7.md\n"
     ]
    }
   ],
   "source": [
    "import pymupdf4llm\n",
    "\n",
    "md_text = pymupdf4llm.to_markdown(\"book7.pdf\")\n",
    "\n",
    "with open(\"book7.md\", \"w\", encoding=\"utf-8\") as f:\n",
    "    f.write(md_text)\n",
    "\n",
    "print(\"book7.pdf converted to book7.md\")"
   ]
  },
  {
   "cell_type": "code",
   "execution_count": 6,
   "metadata": {},
   "outputs": [
    {
     "name": "stdout",
     "output_type": "stream",
     "text": [
      "Processed book7.md successfully.\n"
     ]
    }
   ],
   "source": [
    "import re\n",
    "\n",
    "def process_markdown(filepath):\n",
    "    \"\"\"\n",
    "    Processes a markdown file, inserting END_OF_STORY and START_OF_STORY markers.\n",
    "\n",
    "    Args:\n",
    "        filepath: The path to the markdown file.\n",
    "    \"\"\"\n",
    "    try:\n",
    "        with open(filepath, \"r\", encoding=\"utf-8\") as f:\n",
    "            content = f.read()\n",
    "\n",
    "        # Regex to find story headings (### one, ### two, ..., ### twenty one)\n",
    "        pattern = r\"### (one|two|three|four|five|six|seven|eight|nine|ten|eleven|twelve|thirteen|fourteen|fifteen|sixteen|seventeen|eighteen|nineteen|twenty|twenty one)\"\n",
    "\n",
    "        def replace_match(match):\n",
    "            return f\"END_OF_STORY\\nSTART_OF_STORY\\n{match.group(0)}\"\n",
    "\n",
    "        processed_content = re.sub(pattern, replace_match, content)\n",
    "\n",
    "        with open(filepath, \"w\", encoding=\"utf-8\") as f:\n",
    "            f.write(processed_content)\n",
    "\n",
    "        print(f\"Processed {filepath} successfully.\")\n",
    "\n",
    "    except FileNotFoundError:\n",
    "        print(f\"Error: File '{filepath}' not found.\")\n",
    "    except Exception as e:\n",
    "        print(f\"An error occurred: {e}\")\n",
    "\n",
    "# Example usage (assuming your file is named \"book7.md\"):\n",
    "process_markdown(\"book7.md\")"
   ]
  },
  {
   "cell_type": "code",
   "execution_count": 7,
   "metadata": {},
   "outputs": [
    {
     "name": "stdout",
     "output_type": "stream",
     "text": [
      "Cleaned book7.md successfully.\n"
     ]
    }
   ],
   "source": [
    "import re\n",
    "\n",
    "def clean_markdown(filepath):\n",
    "    \"\"\"\n",
    "    Cleans a Markdown file by removing specified elements, preserving word spaces.\n",
    "\n",
    "    Args:\n",
    "        filepath: The path to the Markdown file.\n",
    "    \"\"\"\n",
    "    try:\n",
    "        with open(filepath, \"r\", encoding=\"utf-8\") as f:\n",
    "            content = f.read()\n",
    "\n",
    "        # Remove \"####\" and \"----\"\n",
    "        content = re.sub(r\"####|----\", \"\", content)\n",
    "\n",
    "        # Remove non-alphanumeric characters except spaces\n",
    "        content = re.sub(r\"[^a-zA-Z0-9\\s]\", \"\", content)\n",
    "\n",
    "        # Remove extra spaces (multiple spaces to single spaces)\n",
    "        content = re.sub(r\"\\s+\", \" \", content)\n",
    "\n",
    "        #Remove leading/trailing spaces\n",
    "        content = content.strip()\n",
    "\n",
    "        with open(filepath, \"w\", encoding=\"utf-8\") as f:\n",
    "            f.write(content)\n",
    "\n",
    "        print(f\"Cleaned {filepath} successfully.\")\n",
    "\n",
    "    except FileNotFoundError:\n",
    "        print(f\"Error: File '{filepath}' not found.\")\n",
    "    except Exception as e:\n",
    "        print(f\"An error occurred: {e}\")\n",
    "\n",
    "# Example usage (assuming your file is named \"book7.md\"):\n",
    "clean_markdown(\"book7.md\")"
   ]
  },
  {
   "cell_type": "code",
   "execution_count": 8,
   "metadata": {},
   "outputs": [
    {
     "name": "stdout",
     "output_type": "stream",
     "text": [
      "Processing book8.pdf...\n",
      "]========================================] (185/185)\n",
      "book8.pdf converted to book8.md\n"
     ]
    }
   ],
   "source": [
    "import pymupdf4llm\n",
    "\n",
    "md_text = pymupdf4llm.to_markdown(\"book8.pdf\")\n",
    "\n",
    "with open(\"book8.md\", \"w\", encoding=\"utf-8\") as f:\n",
    "    f.write(md_text)\n",
    "\n",
    "print(\"book8.pdf converted to book8.md\")"
   ]
  },
  {
   "cell_type": "code",
   "execution_count": 9,
   "metadata": {},
   "outputs": [
    {
     "name": "stdout",
     "output_type": "stream",
     "text": [
      "Processing book10.pdf...\n",
      "]========================================] (35/35)\n",
      "book10.pdf converted to book10.md\n"
     ]
    }
   ],
   "source": [
    "import pymupdf4llm\n",
    "\n",
    "md_text = pymupdf4llm.to_markdown(\"book10.pdf\")\n",
    "\n",
    "with open(\"book10.md\", \"w\", encoding=\"utf-8\") as f:\n",
    "    f.write(md_text)\n",
    "\n",
    "print(\"book10.pdf converted to book10.md\")"
   ]
  },
  {
   "cell_type": "code",
   "execution_count": 10,
   "metadata": {},
   "outputs": [
    {
     "name": "stdout",
     "output_type": "stream",
     "text": [
      "Cleaned book8.md successfully.\n"
     ]
    }
   ],
   "source": [
    "clean_markdown(\"book10.md\")"
   ]
  },
  {
   "cell_type": "code",
   "execution_count": 11,
   "metadata": {},
   "outputs": [
    {
     "name": "stdout",
     "output_type": "stream",
     "text": [
      "Cleaned book10.md successfully.\n"
     ]
    }
   ],
   "source": [
    "clean_markdown(\"book10.md\")"
   ]
  },
  {
   "cell_type": "code",
   "execution_count": 13,
   "metadata": {},
   "outputs": [
    {
     "name": "stdout",
     "output_type": "stream",
     "text": [
      "Processing book8.pdf...\n",
      "]========================================] (185/185)\n",
      "book8.pdf converted to book8.md\n"
     ]
    }
   ],
   "source": [
    "import pymupdf4llm\n",
    "\n",
    "md_text = pymupdf4llm.to_markdown(\"book8.pdf\")\n",
    "\n",
    "with open(\"book8.md\", \"w\", encoding=\"utf-8\") as f:\n",
    "    f.write(md_text)\n",
    "\n",
    "print(\"book8.pdf converted to book8.md\")"
   ]
  },
  {
   "cell_type": "code",
   "execution_count": 12,
   "metadata": {},
   "outputs": [
    {
     "name": "stdout",
     "output_type": "stream",
     "text": [
      "Processing book9.pdf...\n",
      "]========================================] (129/129)\n",
      "book9.pdf converted to book9.md\n"
     ]
    }
   ],
   "source": [
    "import pymupdf4llm\n",
    "\n",
    "md_text = pymupdf4llm.to_markdown(\"book9.pdf\")\n",
    "\n",
    "with open(\"book9.md\", \"w\", encoding=\"utf-8\") as f:\n",
    "    f.write(md_text)\n",
    "\n",
    "print(\"book9.pdf converted to book9.md\")"
   ]
  },
  {
   "cell_type": "code",
   "execution_count": 14,
   "metadata": {},
   "outputs": [
    {
     "name": "stdout",
     "output_type": "stream",
     "text": [
      "Processed book9.md successfully.\n"
     ]
    }
   ],
   "source": [
    "import re\n",
    "\n",
    "def process_stories(filepath):\n",
    "    \"\"\"\n",
    "    Inserts START_OF_STORY and END_OF_STORY markers before/after specific headings.\n",
    "\n",
    "    Args:\n",
    "        filepath: The path to the Markdown file.\n",
    "    \"\"\"\n",
    "    try:\n",
    "        with open(filepath, \"r\", encoding=\"utf-8\") as f:\n",
    "            content = f.read()\n",
    "\n",
    "        # Define the story headings to look for\n",
    "        headings = [\n",
    "            \"# They Eat Meat!\",\n",
    "            \"# Sons\",\n",
    "            \"# November Is the Month of Migrations\",\n",
    "            \"# Getting Even\",\n",
    "            \"# Eating with the Enemy\",\n",
    "            \"# Blue Baby\",\n",
    "            \"# Baso-jhi\",\n",
    "            \"# Desire, Divination, Death\",\n",
    "            \"# Merely a Whore\",\n",
    "            \"# The Adivasi Will Not Dance\",\n",
    "        ]\n",
    "\n",
    "        for heading in headings:\n",
    "            # Escape special characters in the heading for regex\n",
    "            escaped_heading = re.escape(heading)\n",
    "            pattern = rf\"^{escaped_heading}$\"  # Match the heading at the beginning of a line\n",
    "\n",
    "            def replace_match(match):\n",
    "                return f\"END_OF_STORY\\nSTART_OF_STORY\\n{match.group(0)}\"\n",
    "\n",
    "            content = re.sub(pattern, replace_match, content, flags=re.MULTILINE)\n",
    "\n",
    "        with open(filepath, \"w\", encoding=\"utf-8\") as f:\n",
    "            f.write(content)\n",
    "\n",
    "        print(f\"Processed {filepath} successfully.\")\n",
    "\n",
    "    except FileNotFoundError:\n",
    "        print(f\"Error: File '{filepath}' not found.\")\n",
    "    except Exception as e:\n",
    "        print(f\"An error occurred: {e}\")\n",
    "\n",
    "# Example usage (replace \"your_other_file.md\" with the actual filename):\n",
    "process_stories(\"book9.md\")"
   ]
  },
  {
   "cell_type": "code",
   "execution_count": 15,
   "metadata": {},
   "outputs": [
    {
     "name": "stdout",
     "output_type": "stream",
     "text": [
      "Cleaned book9.md successfully.\n"
     ]
    }
   ],
   "source": [
    "import re\n",
    "\n",
    "def clean_markdown(filepath):\n",
    "    \"\"\"\n",
    "    Cleans a Markdown file by removing specified elements, preserving word spaces and underscores.\n",
    "\n",
    "    Args:\n",
    "        filepath: The path to the Markdown file.\n",
    "    \"\"\"\n",
    "    try:\n",
    "        with open(filepath, \"r\", encoding=\"utf-8\") as f:\n",
    "            content = f.read()\n",
    "\n",
    "        # Remove \"####\" and \"----\"\n",
    "        content = re.sub(r\"####|----\", \"\", content)\n",
    "\n",
    "        # Remove non-alphanumeric characters except spaces and underscores\n",
    "        content = re.sub(r\"[^a-zA-Z0-9\\s_]\", \"\", content)\n",
    "\n",
    "        # Remove extra spaces (multiple spaces to single spaces)\n",
    "        content = re.sub(r\"\\s+\", \" \", content)\n",
    "\n",
    "        #Remove leading/trailing spaces\n",
    "        content = content.strip()\n",
    "\n",
    "        with open(filepath, \"w\", encoding=\"utf-8\") as f:\n",
    "            f.write(content)\n",
    "\n",
    "        print(f\"Cleaned {filepath} successfully.\")\n",
    "\n",
    "    except FileNotFoundError:\n",
    "        print(f\"Error: File '{filepath}' not found.\")\n",
    "    except Exception as e:\n",
    "        print(f\"An error occurred: {e}\")\n",
    "\n",
    "# Example usage (assuming your file is named \"book7.md\"):\n",
    "clean_markdown(\"book9.md\")"
   ]
  },
  {
   "cell_type": "code",
   "execution_count": 16,
   "metadata": {},
   "outputs": [
    {
     "name": "stdout",
     "output_type": "stream",
     "text": [
      "Processed book8.md successfully.\n"
     ]
    }
   ],
   "source": [
    "import re\n",
    "\n",
    "def process_stories_with_hashes(filepath):\n",
    "    \"\"\"\n",
    "    Inserts START_OF_STORY and END_OF_STORY markers before/after specific headings, adding ###.\n",
    "\n",
    "    Args:\n",
    "        filepath: The path to the Markdown file.\n",
    "    \"\"\"\n",
    "    try:\n",
    "        with open(filepath, \"r\", encoding=\"utf-8\") as f:\n",
    "            content = f.read()\n",
    "\n",
    "        # Define the story headings to look for (with ###)\n",
    "        headings = [\n",
    "            \"### Sum Total\",\n",
    "            \"### A Tale of a Summer Vacation\",\n",
    "            \"### A Brief Lesson in Trust\",\n",
    "            \"### Feet of Clay\",\n",
    "            \"### My Lawfully Wedded Husband\",\n",
    "            \"### Number 63\",\n",
    "            \"### On the Night Train\",\n",
    "            \"### Hourie\",\n",
    "            \"### Silent Fear\",\n",
    "            \"### St George and the Dragon\",\n",
    "            \"### The Crusader\",\n",
    "            \"### The Howling Waves of Tranquebar\",\n",
    "            \"### A New Home for Bhainsa\",\n",
    "            \"### One Night's Work\",\n",
    "        ]\n",
    "\n",
    "        for heading in headings:\n",
    "            # Escape special characters in the heading for regex\n",
    "            escaped_heading = re.escape(heading)\n",
    "            pattern = rf\"^{escaped_heading}$\"  # Match the heading at the beginning of a line\n",
    "\n",
    "            def replace_match(match):\n",
    "                return f\"END_OF_STORY\\nSTART_OF_STORY\\n{match.group(0)}\"\n",
    "\n",
    "            content = re.sub(pattern, replace_match, content, flags=re.MULTILINE)\n",
    "\n",
    "        with open(filepath, \"w\", encoding=\"utf-8\") as f:\n",
    "            f.write(content)\n",
    "\n",
    "        print(f\"Processed {filepath} successfully.\")\n",
    "\n",
    "    except FileNotFoundError:\n",
    "        print(f\"Error: File '{filepath}' not found.\")\n",
    "    except Exception as e:\n",
    "        print(f\"An error occurred: {e}\")\n",
    "\n",
    "# Example usage (replace \"book8.md\" with the actual filename):\n",
    "process_stories_with_hashes(\"book8.md\")"
   ]
  },
  {
   "cell_type": "code",
   "execution_count": 17,
   "metadata": {},
   "outputs": [
    {
     "name": "stdout",
     "output_type": "stream",
     "text": [
      "Cleaned book8.md successfully.\n"
     ]
    }
   ],
   "source": [
    "clean_markdown(\"book8.md\")"
   ]
  },
  {
   "cell_type": "code",
   "execution_count": 18,
   "metadata": {},
   "outputs": [
    {
     "name": "stdout",
     "output_type": "stream",
     "text": [
      "Combined ['book7.md', 'book8.md', 'book9.md', 'book10.md'] into combined_books.md successfully.\n"
     ]
    }
   ],
   "source": [
    "def combine_md_files(input_files, output_file):\n",
    "    \"\"\"\n",
    "    Combines multiple Markdown files into a single file in the specified order.\n",
    "\n",
    "    Args:\n",
    "        input_files: A list of input file paths (e.g., [\"book7.md\", \"book8.md\"]).\n",
    "        output_file: The path to the output combined file.\n",
    "    \"\"\"\n",
    "    try:\n",
    "        combined_content = \"\"\n",
    "        for input_file in input_files:\n",
    "            with open(input_file, \"r\", encoding=\"utf-8\") as f:\n",
    "                combined_content += f.read() + \"\\n\"  # Add a newline between files\n",
    "\n",
    "        with open(output_file, \"w\", encoding=\"utf-8\") as f:\n",
    "            f.write(combined_content)\n",
    "\n",
    "        print(f\"Combined {input_files} into {output_file} successfully.\")\n",
    "\n",
    "    except FileNotFoundError as e:\n",
    "        print(f\"Error: One or more input files not found: {e}\")\n",
    "    except Exception as e:\n",
    "        print(f\"An error occurred: {e}\")\n",
    "\n",
    "# Example usage:\n",
    "input_files = [\"book7.md\", \"book8.md\", \"book9.md\", \"book10.md\"]\n",
    "output_file = \"combined_books.md\"\n",
    "combine_md_files(input_files, output_file)"
   ]
  },
  {
   "cell_type": "code",
   "execution_count": null,
   "metadata": {},
   "outputs": [],
   "source": [
    "input_files = [\"preprocessed.md\",]\n",
    "output_file = \"combined_books.md\"\n",
    "combine_md_files(input_files, output_file)"
   ]
  }
 ],
 "metadata": {
  "kernelspec": {
   "display_name": "Python 3 (ipykernel)",
   "language": "python",
   "name": "python3"
  },
  "language_info": {
   "codemirror_mode": {
    "name": "ipython",
    "version": 3
   },
   "file_extension": ".py",
   "mimetype": "text/x-python",
   "name": "python",
   "nbconvert_exporter": "python",
   "pygments_lexer": "ipython3",
   "version": "3.10.12"
  }
 },
 "nbformat": 4,
 "nbformat_minor": 4
}
